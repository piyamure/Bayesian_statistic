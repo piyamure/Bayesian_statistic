{
 "cells": [
  {
   "cell_type": "code",
   "execution_count": 1,
   "metadata": {},
   "outputs": [],
   "source": [
    "import numpy as np\n",
    "import pandas as pd"
   ]
  },
  {
   "cell_type": "code",
   "execution_count": 2,
   "metadata": {},
   "outputs": [
    {
     "name": "stdout",
     "output_type": "stream",
     "text": [
      "Downloaded gss_bayes.csv\n"
     ]
    }
   ],
   "source": [
    "# Load the data file\n",
    "\n",
    "from os.path import basename, exists\n",
    "\n",
    "def download(url):\n",
    "    filename = basename(url)\n",
    "    if not exists(filename):\n",
    "        from urllib.request import urlretrieve\n",
    "        local, _ = urlretrieve(url, filename)\n",
    "        print('Downloaded ' + local)\n",
    "    \n",
    "download('https://github.com/AllenDowney/ThinkBayes2/raw/master/data/gss_bayes.csv')"
   ]
  },
  {
   "cell_type": "code",
   "execution_count": 3,
   "metadata": {},
   "outputs": [
    {
     "data": {
      "text/html": [
       "<div>\n",
       "<style scoped>\n",
       "    .dataframe tbody tr th:only-of-type {\n",
       "        vertical-align: middle;\n",
       "    }\n",
       "\n",
       "    .dataframe tbody tr th {\n",
       "        vertical-align: top;\n",
       "    }\n",
       "\n",
       "    .dataframe thead th {\n",
       "        text-align: right;\n",
       "    }\n",
       "</style>\n",
       "<table border=\"1\" class=\"dataframe\">\n",
       "  <thead>\n",
       "    <tr style=\"text-align: right;\">\n",
       "      <th></th>\n",
       "      <th>caseid</th>\n",
       "      <th>year</th>\n",
       "      <th>age</th>\n",
       "      <th>sex</th>\n",
       "      <th>polviews</th>\n",
       "      <th>partyid</th>\n",
       "      <th>indus10</th>\n",
       "    </tr>\n",
       "  </thead>\n",
       "  <tbody>\n",
       "    <tr>\n",
       "      <th>0</th>\n",
       "      <td>1</td>\n",
       "      <td>1974</td>\n",
       "      <td>21.0</td>\n",
       "      <td>1</td>\n",
       "      <td>4.0</td>\n",
       "      <td>2.0</td>\n",
       "      <td>4970.0</td>\n",
       "    </tr>\n",
       "    <tr>\n",
       "      <th>1</th>\n",
       "      <td>2</td>\n",
       "      <td>1974</td>\n",
       "      <td>41.0</td>\n",
       "      <td>1</td>\n",
       "      <td>5.0</td>\n",
       "      <td>0.0</td>\n",
       "      <td>9160.0</td>\n",
       "    </tr>\n",
       "    <tr>\n",
       "      <th>2</th>\n",
       "      <td>5</td>\n",
       "      <td>1974</td>\n",
       "      <td>58.0</td>\n",
       "      <td>2</td>\n",
       "      <td>6.0</td>\n",
       "      <td>1.0</td>\n",
       "      <td>2670.0</td>\n",
       "    </tr>\n",
       "    <tr>\n",
       "      <th>3</th>\n",
       "      <td>6</td>\n",
       "      <td>1974</td>\n",
       "      <td>30.0</td>\n",
       "      <td>1</td>\n",
       "      <td>5.0</td>\n",
       "      <td>4.0</td>\n",
       "      <td>6870.0</td>\n",
       "    </tr>\n",
       "    <tr>\n",
       "      <th>4</th>\n",
       "      <td>7</td>\n",
       "      <td>1974</td>\n",
       "      <td>48.0</td>\n",
       "      <td>1</td>\n",
       "      <td>5.0</td>\n",
       "      <td>4.0</td>\n",
       "      <td>7860.0</td>\n",
       "    </tr>\n",
       "  </tbody>\n",
       "</table>\n",
       "</div>"
      ],
      "text/plain": [
       "   caseid  year   age  sex  polviews  partyid  indus10\n",
       "0       1  1974  21.0    1       4.0      2.0   4970.0\n",
       "1       2  1974  41.0    1       5.0      0.0   9160.0\n",
       "2       5  1974  58.0    2       6.0      1.0   2670.0\n",
       "3       6  1974  30.0    1       5.0      4.0   6870.0\n",
       "4       7  1974  48.0    1       5.0      4.0   7860.0"
      ]
     },
     "execution_count": 3,
     "metadata": {},
     "output_type": "execute_result"
    }
   ],
   "source": [
    "# load data to panda df\n",
    "gss = pd.read_csv('gss_bayes.csv')\n",
    "gss.head()"
   ]
  },
  {
   "cell_type": "code",
   "execution_count": 13,
   "metadata": {},
   "outputs": [
    {
     "name": "stdout",
     "output_type": "stream",
     "text": [
      " Probability of banker using basis def : 0.0148\n",
      " Probability of banker using mean : 0.0148\n"
     ]
    }
   ],
   "source": [
    "# probaility of being a banker \n",
    "banker = gss['indus10'] == 6870\n",
    "Pr_banker = banker.sum()/len(banker)\n",
    "print(f' Probability of banker using basis def : {Pr_banker:.4f}')\n",
    "\n",
    "# OR we can use \n",
    "Pr_banker_2 = banker.mean()\n",
    "print(f' Probability of banker using mean : {Pr_banker:.4f}')"
   ]
  },
  {
   "cell_type": "code",
   "execution_count": 16,
   "metadata": {},
   "outputs": [
    {
     "name": "stdout",
     "output_type": "stream",
     "text": [
      "Prob of banker = 0.0148\n"
     ]
    }
   ],
   "source": [
    "# function to get probability of proposition A\n",
    "def prob(A):\n",
    "    return A.mean()\n",
    "\n",
    "print(f'Prob of banker = {prob(banker):.4f}')"
   ]
  },
  {
   "cell_type": "code",
   "execution_count": 28,
   "metadata": {},
   "outputs": [
    {
     "name": "stdout",
     "output_type": "stream",
     "text": [
      "Number of unique sex values : [1 2]\n",
      "Prob of female:0.5379\n"
     ]
    }
   ],
   "source": [
    "# what is the probability of being female\n",
    "print(f\"Number of unique sex values : {gss['sex'].unique()}\")\n",
    "female = gss['sex'] == 2\n",
    "print(f\"Prob of female:{prob(female):.4f}\")"
   ]
  },
  {
   "cell_type": "code",
   "execution_count": 32,
   "metadata": {},
   "outputs": [
    {
     "name": "stdout",
     "output_type": "stream",
     "text": [
      "probaility of being a democrat: 0.3663\n"
     ]
    }
   ],
   "source": [
    "# probability of being democrat \n",
    "democrat = gss['partyid'] <= 1\n",
    "print(f'probaility of being a democrat: {prob(democrat):.4f}')"
   ]
  },
  {
   "cell_type": "code",
   "execution_count": 46,
   "metadata": {},
   "outputs": [
    {
     "name": "stdout",
     "output_type": "stream",
     "text": [
      "probaility of being a democrat: 0.2737\n"
     ]
    }
   ],
   "source": [
    "# prob of being liberal \n",
    "liberal = gss['polviews'] <= 3\n",
    "print(f'probaility of being a democrat: {prob(liberal):.4f}')"
   ]
  },
  {
   "cell_type": "code",
   "execution_count": 33,
   "metadata": {},
   "outputs": [
    {
     "name": "stdout",
     "output_type": "stream",
     "text": [
      "prob of being banker and democrat = 0.0047\n"
     ]
    }
   ],
   "source": [
    "# conjunction Pr(A and B)\n",
    "print(f'prob of being banker and democrat = {prob(banker & democrat):.4f}')"
   ]
  },
  {
   "cell_type": "code",
   "execution_count": 38,
   "metadata": {},
   "outputs": [
    {
     "name": "stdout",
     "output_type": "stream",
     "text": [
      "Prob of being female given banker:0.7706\n",
      "Prob of being banker given female:0.0212\n"
     ]
    }
   ],
   "source": [
    "# conditional probability \n",
    "\n",
    "selected = female[banker]\n",
    "print(f'Prob of being female given banker:{prob(selected):.4f}')\n",
    "\n",
    "selected = banker[female]\n",
    "print(f'Prob of being banker given female:{prob(selected):.4f}')"
   ]
  },
  {
   "cell_type": "code",
   "execution_count": 39,
   "metadata": {},
   "outputs": [
    {
     "name": "stdout",
     "output_type": "stream",
     "text": [
      "Prob of being female given banker:0.7706\n",
      "Prob of being banker given female:0.0212\n"
     ]
    }
   ],
   "source": [
    "# function to get the conditional probability \n",
    "\n",
    "def conditional(proposition,given):\n",
    "    return prob(proposition[given])\n",
    "\n",
    "print(f'Prob of being female given banker:{conditional(female,banker):.4f}')\n",
    "print(f'Prob of being banker given female:{conditional(banker,female):.4f}')"
   ]
  },
  {
   "cell_type": "markdown",
   "metadata": {},
   "source": [
    "### Laws of probability\n",
    "\n",
    "* $ P(A|B) = \\frac{P(A \\hspace{.5mm}and \\hspace{.5mm} B)}{P(B)} $\n",
    "\n",
    "* $ P(A \\hspace{.5mm}and\\hspace{.5mm} B) = P(A|B) P(B) $\n",
    "\n",
    "* $ P(A|B) = \\frac{P(B|A) P(A)}{P(B)} $, this is the Bayes theorem "
   ]
  },
  {
   "cell_type": "code",
   "execution_count": 45,
   "metadata": {},
   "outputs": [
    {
     "name": "stdout",
     "output_type": "stream",
     "text": [
      "Prob of being female given banker using brakcet operator = 0.7706\n",
      "\n",
      "Prob of being female given banker using conditional prob. func = 0.7706\n",
      "\n",
      "Prob of being female given banker using conjuncton = 0.7706\n"
     ]
    }
   ],
   "source": [
    "# use conjunction to compute conditional prob \n",
    "\n",
    "print(f'Prob of being female given banker using brakcet operator = {(female[banker]).mean():.4f}\\n')\n",
    "print(f'Prob of being female given banker using conditional prob. func = {conditional(female,banker):.4f}\\n')\n",
    "print(f'Prob of being female given banker using conjuncton = {prob(female & banker)/prob(banker):.4f}')\n"
   ]
  },
  {
   "cell_type": "code",
   "execution_count": 48,
   "metadata": {},
   "outputs": [
    {
     "name": "stdout",
     "output_type": "stream",
     "text": [
      "Prob of being liberal and democrat = 0.1425\n",
      "\n",
      "Prob of being liberal and democrat using conditional = 0.1425\n",
      "\n"
     ]
    }
   ],
   "source": [
    "# use conditional prob to get conjucntion \n",
    "\n",
    "print(f'Prob of being liberal and democrat = { prob(liberal & democrat):.4f}\\n')\n",
    "print(f'Prob of being liberal and democrat using conditional = { conditional(liberal,democrat) * prob(democrat):.4f}\\n')"
   ]
  },
  {
   "cell_type": "code",
   "execution_count": 51,
   "metadata": {},
   "outputs": [
    {
     "name": "stdout",
     "output_type": "stream",
     "text": [
      "Prob of being liberal given banker : 0.2239\n",
      "\n",
      "Prob of being liberal given banker using bayes: 0.2239\n"
     ]
    }
   ],
   "source": [
    "# let's check bayes theorem \n",
    "\n",
    "print(f'Prob of being liberal given banker : {conditional(liberal,banker):.4f}\\n')\n",
    "print(f'Prob of being liberal given banker using bayes: {conditional(banker,liberal) * prob(liberal)/prob(banker):.4f}')"
   ]
  },
  {
   "cell_type": "markdown",
   "metadata": {},
   "source": [
    "### Law of total probability \n",
    "\n",
    "* $P(A) = \\sum_i P(A|B_i) P(B_i)$, here $B_i$ should be mutually exclusive \n"
   ]
  },
  {
   "cell_type": "code",
   "execution_count": 55,
   "metadata": {},
   "outputs": [
    {
     "name": "stdout",
     "output_type": "stream",
     "text": [
      "Prob of being a banker:0.0148\n",
      "Prob of being a female:0.5379\n",
      "Prob of being a male:0.4621\n"
     ]
    }
   ],
   "source": [
    "male = gss['sex'] == 1\n",
    "print(f'Prob of being a banker:{prob(banker):.4f}')\n",
    "print(f'Prob of being a female:{prob(female):.4f}')\n",
    "print(f'Prob of being a male:{prob(male):.4f}')"
   ]
  },
  {
   "cell_type": "code",
   "execution_count": 58,
   "metadata": {},
   "outputs": [
    {
     "name": "stdout",
     "output_type": "stream",
     "text": [
      "Prob of being banker using total prob : 0.0148\n",
      "\n",
      "Prob of being banker using total prob : 0.0148\n",
      "\n"
     ]
    }
   ],
   "source": [
    "print(f'Prob of being banker using total prob : {prob(banker & male) + prob(banker & female) :.4f}\\n')\n",
    "print(f'Prob of being banker using total prob : {conditional(banker,male) * prob(male) + conditional(banker,female) * prob(female) :.4f}\\n')"
   ]
  },
  {
   "cell_type": "code",
   "execution_count": 62,
   "metadata": {},
   "outputs": [
    {
     "name": "stdout",
     "output_type": "stream",
     "text": [
      "Mutual exclusiveness between male and female:0.0\n",
      "\n",
      "Prob of either male or female:1.0000\n"
     ]
    }
   ],
   "source": [
    "print(f'Mutual exclusiveness between male and female:{prob(male & female)}\\n')\n",
    "print(f'Prob of either male or female:{prob(male)+prob(female):.4f}')"
   ]
  },
  {
   "cell_type": "code",
   "execution_count": null,
   "metadata": {},
   "outputs": [],
   "source": []
  }
 ],
 "metadata": {
  "kernelspec": {
   "display_name": "base",
   "language": "python",
   "name": "python3"
  },
  "language_info": {
   "codemirror_mode": {
    "name": "ipython",
    "version": 3
   },
   "file_extension": ".py",
   "mimetype": "text/x-python",
   "name": "python",
   "nbconvert_exporter": "python",
   "pygments_lexer": "ipython3",
   "version": "3.9.13"
  }
 },
 "nbformat": 4,
 "nbformat_minor": 2
}
